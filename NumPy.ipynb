{
  "nbformat": 4,
  "nbformat_minor": 0,
  "metadata": {
    "colab": {
      "name": "NumPy.ipynb",
      "provenance": [],
      "collapsed_sections": []
    },
    "kernelspec": {
      "name": "python3",
      "display_name": "Python 3"
    },
    "language_info": {
      "name": "python"
    }
  },
  "cells": [
    {
      "cell_type": "markdown",
      "metadata": {
        "id": "Uqtrcq2JX7As"
      },
      "source": [
        ""
      ]
    },
    {
      "cell_type": "code",
      "metadata": {
        "colab": {
          "base_uri": "https://localhost:8080/"
        },
        "id": "_jsE5CtlQDwL",
        "outputId": "cb9bfa30-fd16-40d7-d161-5362c852edb2"
      },
      "source": [
        "#Step 1\n",
        "import numpy as np\n",
        "price = [2, 1, 10]\n",
        "quantity_sold = [17, 40, 1]\n",
        "price_array = np.array(price)\n",
        "price_array = np.append(price_array, 7)\n",
        "price_array = np.append(price_array, [4.50, 3, 4,9])\n",
        "price_array = np.delete(price_array, -1)\n",
        "price_array[2] = 12\n",
        "\n",
        "quantity_sold_array = np.array(quantity_sold)\n",
        "quantity_sold_array = np.append(quantity_sold_array,[2,3,16,5])\n",
        "quantity_sold_array[1] = quantity_sold_array[1]-1\n",
        "\n",
        "\n",
        "\n",
        "#cost_array = np.array([0.25, 0.50, 5.00])\n",
        "#profit_array = price_array - cost_array\n",
        "# $2 for a brownie, $1 for a cookie, $10 for a cake.\n",
        "newArr = price_array * quantity_sold_array\n",
        "# $4.50 for fudge, $3 for a cupcake, $4 for a loaf of banana bread\n",
        "print(newArr)\n",
        "sale = newArr.sum()\n",
        "print(sale)"
      ],
      "execution_count": 53,
      "outputs": [
        {
          "output_type": "stream",
          "name": "stdout",
          "text": [
            "[34.  39.  12.  14.  13.5 48.  20. ]\n",
            "180.5\n"
          ]
        }
      ]
    },
    {
      "cell_type": "code",
      "metadata": {
        "colab": {
          "base_uri": "https://localhost:8080/"
        },
        "id": "XeA67AgBX86y",
        "outputId": "5c6062e0-3650-4609-e8f2-52f746f61849"
      },
      "source": [
        "quantity_leftover = [0,0,2,1,6,0,2]\n",
        "clearance = (price_array*quantity_leftover*0.5).sum()\n",
        "print(clearance)"
      ],
      "execution_count": 56,
      "outputs": [
        {
          "output_type": "stream",
          "name": "stdout",
          "text": [
            "33.0\n"
          ]
        }
      ]
    },
    {
      "cell_type": "code",
      "metadata": {
        "colab": {
          "base_uri": "https://localhost:8080/"
        },
        "id": "DmgPWoW4gLyv",
        "outputId": "9eea6abc-4ecc-4417-de73-f2e3f3a0852f"
      },
      "source": [
        "total = sale+clearance\n",
        "print(total)"
      ],
      "execution_count": 59,
      "outputs": [
        {
          "output_type": "stream",
          "name": "stdout",
          "text": [
            "213.5\n"
          ]
        }
      ]
    }
  ]
}