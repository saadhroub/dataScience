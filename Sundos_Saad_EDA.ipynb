{
  "nbformat": 4,
  "nbformat_minor": 0,
  "metadata": {
    "colab": {
      "name": "Sundos_Saad_EDA.ipynb",
      "provenance": [],
      "authorship_tag": "ABX9TyONLpHKTZI09tsvyYAFGipU",
      "include_colab_link": true
    },
    "kernelspec": {
      "name": "python3",
      "display_name": "Python 3"
    },
    "language_info": {
      "name": "python"
    }
  },
  "cells": [
    {
      "cell_type": "markdown",
      "metadata": {
        "id": "view-in-github",
        "colab_type": "text"
      },
      "source": [
        "<a href=\"https://colab.research.google.com/github/saadhroub/dataScience/blob/master/Sundos_Saad_EDA.ipynb\" target=\"_parent\"><img src=\"https://colab.research.google.com/assets/colab-badge.svg\" alt=\"Open In Colab\"/></a>"
      ]
    },
    {
      "cell_type": "markdown",
      "metadata": {
        "id": "vDtpPAE33Jhu"
      },
      "source": [
        "This is the project of Saad and Sundos, it covers the EDA part of project: ....\n",
        "\n",
        "Table of Contents\n",
        "1. Ask an interesting question\n",
        "2. Get the Data\n",
        "3. Explore the Data\n",
        "4. Model the Data\n",
        "5. Data Visulization\n",
        "6. Insights\n"
      ]
    },
    {
      "cell_type": "markdown",
      "metadata": {
        "id": "D72lXoXp3rVI"
      },
      "source": [
        "Section 1: Import and read data"
      ]
    },
    {
      "cell_type": "code",
      "metadata": {
        "id": "XXI6rEP93uE_"
      },
      "source": [
        "import pandas as pd\n",
        "import numpy as np\n",
        "import matplotlib.pyplot as plt\n",
        "import seaborn as sns\n",
        "% matplotlib inline "
      ],
      "execution_count": null,
      "outputs": []
    },
    {
      "cell_type": "markdown",
      "metadata": {
        "id": "_nYMMkOg4DtU"
      },
      "source": [
        "Step 2: Create data paths"
      ]
    },
    {
      "cell_type": "code",
      "metadata": {
        "colab": {
          "base_uri": "https://localhost:8080/"
        },
        "id": "q35vQOXl4tvl",
        "outputId": "ed1de177-c3aa-4e5b-b619-54bd3a157494"
      },
      "source": [
        "!ls '/content/drive/MyDrive/Saad_Sundos/'"
      ],
      "execution_count": null,
      "outputs": [
        {
          "output_type": "stream",
          "name": "stdout",
          "text": [
            "'Crowdfunding prototype flow  (1).png'\t ks-projects-201801.csv\n",
            "'Crowdfunding prototype flow .png'\t'Untitled Diagram.jpg'\n",
            " Kickstarter2021.csv\t\t\t'Untitled document.docx'\n",
            " Kickstarter.csv\t\t\t'User Diagram .vpd.pdf'\n",
            " ks-projects-201612.csv\n"
          ]
        }
      ]
    },
    {
      "cell_type": "code",
      "metadata": {
        "id": "SqEN51Xf29h1",
        "colab": {
          "base_uri": "https://localhost:8080/"
        },
        "outputId": "fea0a5bb-d807-46c6-d503-1f4014a7b66b"
      },
      "source": [
        "#Connect to google drive\n",
        "from google.colab import drive\n",
        "drive.mount('/content/drive')\n",
        "original_data_url = '/content/drive/MyDrive/Saad_Sundos/'\n",
        "data_2016_csv = original_data_url + 'ks-projects-201612.csv'\n",
        "data_2018_csv = original_data_url + 'ks-projects-201801.csv'"
      ],
      "execution_count": null,
      "outputs": [
        {
          "output_type": "stream",
          "name": "stdout",
          "text": [
            "Drive already mounted at /content/drive; to attempt to forcibly remount, call drive.mount(\"/content/drive\", force_remount=True).\n"
          ]
        }
      ]
    },
    {
      "cell_type": "code",
      "metadata": {
        "colab": {
          "base_uri": "https://localhost:8080/",
          "height": 735
        },
        "id": "FFOBpofZ3dpu",
        "outputId": "0941ca20-c1ee-4729-bc23-6f1689057b79"
      },
      "source": [
        "#Reading the data\n",
        "data_2016 = pd.read_csv(data_2016_csv, usecols=[0,1,2,3,4,5,6,7,8,9,10,11,12], engine='python')\n",
        "data_2016.columns=['ID','name','category','main_category','currency','deadline','goal','launched','pledged','state','backers','country','usd pledged']\n",
        "data_obj=data_2016.select_dtypes(['object'])\n",
        "data_2016[data_obj.columns] = data_obj.apply(lambda x: x.str.strip())\n",
        "data_2016"
      ],
      "execution_count": null,
      "outputs": [
        {
          "output_type": "execute_result",
          "data": {
            "text/html": [
              "<div>\n",
              "<style scoped>\n",
              "    .dataframe tbody tr th:only-of-type {\n",
              "        vertical-align: middle;\n",
              "    }\n",
              "\n",
              "    .dataframe tbody tr th {\n",
              "        vertical-align: top;\n",
              "    }\n",
              "\n",
              "    .dataframe thead th {\n",
              "        text-align: right;\n",
              "    }\n",
              "</style>\n",
              "<table border=\"1\" class=\"dataframe\">\n",
              "  <thead>\n",
              "    <tr style=\"text-align: right;\">\n",
              "      <th></th>\n",
              "      <th>ID</th>\n",
              "      <th>name</th>\n",
              "      <th>category</th>\n",
              "      <th>main_category</th>\n",
              "      <th>currency</th>\n",
              "      <th>deadline</th>\n",
              "      <th>goal</th>\n",
              "      <th>launched</th>\n",
              "      <th>pledged</th>\n",
              "      <th>state</th>\n",
              "      <th>backers</th>\n",
              "      <th>country</th>\n",
              "      <th>usd pledged</th>\n",
              "    </tr>\n",
              "  </thead>\n",
              "  <tbody>\n",
              "    <tr>\n",
              "      <th>0</th>\n",
              "      <td>1000002330</td>\n",
              "      <td>The Songs of Adelaide &amp; Abullah</td>\n",
              "      <td>Poetry</td>\n",
              "      <td>Publishing</td>\n",
              "      <td>GBP</td>\n",
              "      <td>10/9/2015 11:36</td>\n",
              "      <td>1000</td>\n",
              "      <td>8/11/2015 12:12</td>\n",
              "      <td>0</td>\n",
              "      <td>failed</td>\n",
              "      <td>0</td>\n",
              "      <td>GB</td>\n",
              "      <td>0</td>\n",
              "    </tr>\n",
              "    <tr>\n",
              "      <th>1</th>\n",
              "      <td>1000004038</td>\n",
              "      <td>Where is Hank?</td>\n",
              "      <td>Narrative Film</td>\n",
              "      <td>Film &amp; Video</td>\n",
              "      <td>USD</td>\n",
              "      <td>2/26/2013 0:20</td>\n",
              "      <td>45000</td>\n",
              "      <td>1/12/2013 0:20</td>\n",
              "      <td>220</td>\n",
              "      <td>failed</td>\n",
              "      <td>3</td>\n",
              "      <td>US</td>\n",
              "      <td>220</td>\n",
              "    </tr>\n",
              "    <tr>\n",
              "      <th>2</th>\n",
              "      <td>1000007540</td>\n",
              "      <td>ToshiCapital Rekordz Needs Help to Complete Album</td>\n",
              "      <td>Music</td>\n",
              "      <td>Music</td>\n",
              "      <td>USD</td>\n",
              "      <td>4/16/2012 4:24</td>\n",
              "      <td>5000</td>\n",
              "      <td>3/17/2012 3:24</td>\n",
              "      <td>1</td>\n",
              "      <td>failed</td>\n",
              "      <td>1</td>\n",
              "      <td>US</td>\n",
              "      <td>1</td>\n",
              "    </tr>\n",
              "    <tr>\n",
              "      <th>3</th>\n",
              "      <td>1000011046</td>\n",
              "      <td>Community Film Project: The Art of Neighborhoo...</td>\n",
              "      <td>Film &amp; Video</td>\n",
              "      <td>Film &amp; Video</td>\n",
              "      <td>USD</td>\n",
              "      <td>8/29/2015 1:00</td>\n",
              "      <td>19500</td>\n",
              "      <td>7/4/2015 8:35</td>\n",
              "      <td>1283</td>\n",
              "      <td>canceled</td>\n",
              "      <td>14</td>\n",
              "      <td>US</td>\n",
              "      <td>1283</td>\n",
              "    </tr>\n",
              "    <tr>\n",
              "      <th>4</th>\n",
              "      <td>1000014025</td>\n",
              "      <td>Monarch Espresso Bar</td>\n",
              "      <td>Restaurants</td>\n",
              "      <td>Food</td>\n",
              "      <td>USD</td>\n",
              "      <td>4/1/2016 13:38</td>\n",
              "      <td>50000</td>\n",
              "      <td>2/26/2016 13:38</td>\n",
              "      <td>52375</td>\n",
              "      <td>successful</td>\n",
              "      <td>224</td>\n",
              "      <td>US</td>\n",
              "      <td>52375</td>\n",
              "    </tr>\n",
              "    <tr>\n",
              "      <th>...</th>\n",
              "      <td>...</td>\n",
              "      <td>...</td>\n",
              "      <td>...</td>\n",
              "      <td>...</td>\n",
              "      <td>...</td>\n",
              "      <td>...</td>\n",
              "      <td>...</td>\n",
              "      <td>...</td>\n",
              "      <td>...</td>\n",
              "      <td>...</td>\n",
              "      <td>...</td>\n",
              "      <td>...</td>\n",
              "      <td>...</td>\n",
              "    </tr>\n",
              "    <tr>\n",
              "      <th>323745</th>\n",
              "      <td>999976400</td>\n",
              "      <td>ChknTruk Nationwide Charity Drive 2014 (Canceled)</td>\n",
              "      <td>Documentary</td>\n",
              "      <td>Film &amp; Video</td>\n",
              "      <td>USD</td>\n",
              "      <td>10/17/2014 2:35</td>\n",
              "      <td>50000</td>\n",
              "      <td>9/17/2014 2:35</td>\n",
              "      <td>25</td>\n",
              "      <td>canceled</td>\n",
              "      <td>1</td>\n",
              "      <td>US</td>\n",
              "      <td>25</td>\n",
              "    </tr>\n",
              "    <tr>\n",
              "      <th>323746</th>\n",
              "      <td>999977640</td>\n",
              "      <td>The Tribe</td>\n",
              "      <td>Narrative Film</td>\n",
              "      <td>Film &amp; Video</td>\n",
              "      <td>USD</td>\n",
              "      <td>7/19/2011 3:35</td>\n",
              "      <td>1500</td>\n",
              "      <td>6/22/2011 3:35</td>\n",
              "      <td>155</td>\n",
              "      <td>failed</td>\n",
              "      <td>5</td>\n",
              "      <td>US</td>\n",
              "      <td>155</td>\n",
              "    </tr>\n",
              "    <tr>\n",
              "      <th>323747</th>\n",
              "      <td>999986353</td>\n",
              "      <td>Walls of Remedy- New lesbian Romantic Comedy f...</td>\n",
              "      <td>Narrative Film</td>\n",
              "      <td>Film &amp; Video</td>\n",
              "      <td>USD</td>\n",
              "      <td>8/16/2010 5:59</td>\n",
              "      <td>15000</td>\n",
              "      <td>7/1/2010 19:40</td>\n",
              "      <td>20</td>\n",
              "      <td>failed</td>\n",
              "      <td>1</td>\n",
              "      <td>US</td>\n",
              "      <td>20</td>\n",
              "    </tr>\n",
              "    <tr>\n",
              "      <th>323748</th>\n",
              "      <td>999987933</td>\n",
              "      <td>BioDefense Education Kit</td>\n",
              "      <td>Technology</td>\n",
              "      <td>Technology</td>\n",
              "      <td>USD</td>\n",
              "      <td>2/13/2016 2:00</td>\n",
              "      <td>15000</td>\n",
              "      <td>1/13/2016 18:13</td>\n",
              "      <td>200</td>\n",
              "      <td>failed</td>\n",
              "      <td>6</td>\n",
              "      <td>US</td>\n",
              "      <td>200</td>\n",
              "    </tr>\n",
              "    <tr>\n",
              "      <th>323749</th>\n",
              "      <td>999988282</td>\n",
              "      <td>Nou Renmen Ayiti!  We Love Haiti!</td>\n",
              "      <td>Performance Art</td>\n",
              "      <td>Art</td>\n",
              "      <td>USD</td>\n",
              "      <td>8/16/2011 9:07</td>\n",
              "      <td>2000</td>\n",
              "      <td>7/19/2011 9:07</td>\n",
              "      <td>524</td>\n",
              "      <td>failed</td>\n",
              "      <td>17</td>\n",
              "      <td>US</td>\n",
              "      <td>524</td>\n",
              "    </tr>\n",
              "  </tbody>\n",
              "</table>\n",
              "<p>323750 rows × 13 columns</p>\n",
              "</div>"
            ],
            "text/plain": [
              "                ID  ... usd pledged\n",
              "0       1000002330  ...           0\n",
              "1       1000004038  ...         220\n",
              "2       1000007540  ...           1\n",
              "3       1000011046  ...        1283\n",
              "4       1000014025  ...       52375\n",
              "...            ...  ...         ...\n",
              "323745   999976400  ...          25\n",
              "323746   999977640  ...         155\n",
              "323747   999986353  ...          20\n",
              "323748   999987933  ...         200\n",
              "323749   999988282  ...         524\n",
              "\n",
              "[323750 rows x 13 columns]"
            ]
          },
          "metadata": {},
          "execution_count": 14
        }
      ]
    }
  ]
}