{
  "nbformat": 4,
  "nbformat_minor": 0,
  "metadata": {
    "colab": {
      "name": "FizzBuzz.ipynb",
      "provenance": [],
      "collapsed_sections": [],
      "authorship_tag": "ABX9TyPWwDFjysEoelUptIUkFc96",
      "include_colab_link": true
    },
    "kernelspec": {
      "name": "python3",
      "display_name": "Python 3"
    },
    "language_info": {
      "name": "python"
    }
  },
  "cells": [
    {
      "cell_type": "markdown",
      "metadata": {
        "id": "view-in-github",
        "colab_type": "text"
      },
      "source": [
        "<a href=\"https://colab.research.google.com/github/saadhroub/dataScience/blob/master/FizzBuzz.ipynb\" target=\"_parent\"><img src=\"https://colab.research.google.com/assets/colab-badge.svg\" alt=\"Open In Colab\"/></a>"
      ]
    },
    {
      "cell_type": "code",
      "metadata": {
        "colab": {
          "base_uri": "https://localhost:8080/"
        },
        "id": "Hhrf_PJJwXP1",
        "outputId": "27d0c2da-56cb-4126-98d6-a6252296f0e5"
      },
      "source": [
        "for number in range(1, 21):\n",
        "    if number % 3 == 0 and number % 5 == 0:\n",
        "        print('FizzBuzz')\n",
        "    elif number % 3 == 0:\n",
        "        print('Fizz')\n",
        "    elif number % 5 == 0:\n",
        "        print('Buzz')\n",
        "    else:\n",
        "        print(num)"
      ],
      "execution_count": null,
      "outputs": [
        {
          "output_type": "stream",
          "name": "stdout",
          "text": [
            "2\n",
            "2\n",
            "Fizz\n",
            "2\n",
            "Buzz\n",
            "Fizz\n",
            "2\n",
            "2\n",
            "Fizz\n",
            "Buzz\n",
            "2\n",
            "Fizz\n",
            "2\n",
            "2\n",
            "FizzBuzz\n",
            "2\n",
            "2\n",
            "Fizz\n",
            "2\n",
            "Buzz\n"
          ]
        }
      ]
    }
  ]
}